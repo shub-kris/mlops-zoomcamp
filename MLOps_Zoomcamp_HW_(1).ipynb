{
  "cells": [
    {
      "cell_type": "markdown",
      "metadata": {
        "id": "xbOnHVNHKQB4"
      },
      "source": [
        "### Q1. Downloading the data\n",
        "We'll use the same NYC taxi dataset, but instead of \"Green Taxi Trip Records\", we'll use \"For-Hire Vehicle Trip Records\".\n",
        "\n",
        "Download the data for January and February 2021.\n",
        "\n",
        "Note that you need \"For-Hire Vehicle Trip Records\", not \"High Volume For-Hire Vehicle Trip Records\".\n",
        "\n",
        "Read the data for January. How many records are there?\n",
        "\n",
        "* 1054112\n",
        "* 1154112\n",
        "* 1254112\n",
        "* 1354112"
      ]
    },
    {
      "cell_type": "code",
      "execution_count": 1,
      "metadata": {
        "colab": {
          "base_uri": "https://localhost:8080/"
        },
        "id": "Nspbj0xkKAR_",
        "outputId": "0b37d351-c191-4cd2-82d5-ebd3d17ef2a7"
      },
      "outputs": [
        {
          "output_type": "stream",
          "name": "stdout",
          "text": [
            "--2022-05-22 04:57:53--  https://nyc-tlc.s3.amazonaws.com/trip+data/fhv_tripdata_2021-01.parquet\n",
            "Resolving nyc-tlc.s3.amazonaws.com (nyc-tlc.s3.amazonaws.com)... 52.216.154.36\n",
            "Connecting to nyc-tlc.s3.amazonaws.com (nyc-tlc.s3.amazonaws.com)|52.216.154.36|:443... connected.\n",
            "HTTP request sent, awaiting response... 200 OK\n",
            "Length: 11886281 (11M) [binary/octet-stream]\n",
            "Saving to: ‘data/fhv_tripdata_2021-01.parquet’\n",
            "\n",
            "fhv_tripdata_2021-0 100%[===================>]  11.33M  48.7MB/s    in 0.2s    \n",
            "\n",
            "2022-05-22 04:57:53 (48.7 MB/s) - ‘data/fhv_tripdata_2021-01.parquet’ saved [11886281/11886281]\n",
            "\n",
            "--2022-05-22 04:57:53--  https://nyc-tlc.s3.amazonaws.com/trip+data/fhv_tripdata_2021-02.parquet\n",
            "Resolving nyc-tlc.s3.amazonaws.com (nyc-tlc.s3.amazonaws.com)... 52.216.154.36\n",
            "Connecting to nyc-tlc.s3.amazonaws.com (nyc-tlc.s3.amazonaws.com)|52.216.154.36|:443... connected.\n",
            "HTTP request sent, awaiting response... 200 OK\n",
            "Length: 10645466 (10M) [binary/octet-stream]\n",
            "Saving to: ‘data/fhv_tripdata_2021-02.parquet’\n",
            "\n",
            "fhv_tripdata_2021-0 100%[===================>]  10.15M  43.6MB/s    in 0.2s    \n",
            "\n",
            "2022-05-22 04:57:54 (43.6 MB/s) - ‘data/fhv_tripdata_2021-02.parquet’ saved [10645466/10645466]\n",
            "\n"
          ]
        }
      ],
      "source": [
        "! wget https://nyc-tlc.s3.amazonaws.com/trip+data/fhv_tripdata_2021-01.parquet -P data/\n",
        "! wget https://nyc-tlc.s3.amazonaws.com/trip+data/fhv_tripdata_2021-02.parquet -P data/"
      ]
    },
    {
      "cell_type": "code",
      "execution_count": 2,
      "metadata": {
        "id": "QWvZpKnYK1EK"
      },
      "outputs": [],
      "source": [
        "import pandas as pd"
      ]
    },
    {
      "cell_type": "code",
      "execution_count": 3,
      "metadata": {
        "id": "zPLw469kKfwO"
      },
      "outputs": [],
      "source": [
        "jan_data = pd.read_parquet(\"data/fhv_tripdata_2021-01.parquet\")\n",
        "feb_data = pd.read_parquet(\"data/fhv_tripdata_2021-02.parquet\")"
      ]
    },
    {
      "cell_type": "code",
      "execution_count": 4,
      "metadata": {
        "colab": {
          "base_uri": "https://localhost:8080/"
        },
        "id": "xXbChRJ6LGYA",
        "outputId": "8dacf272-9c9a-496e-8309-9c188ac2d8d7"
      },
      "outputs": [
        {
          "output_type": "stream",
          "name": "stdout",
          "text": [
            "Number of records in January data: 1154112\n"
          ]
        }
      ],
      "source": [
        "# Number of records\n",
        "print(f\"Number of records in January data: {jan_data.shape[0]}\")"
      ]
    },
    {
      "cell_type": "markdown",
      "metadata": {
        "id": "cAqCGq_FLZLD"
      },
      "source": [
        "### Q2. Computing duration\n",
        "Now let's compute the `duration` variable. It should contain the duration of a ride in minutes."
      ]
    },
    {
      "cell_type": "code",
      "execution_count": 5,
      "metadata": {
        "colab": {
          "base_uri": "https://localhost:8080/"
        },
        "id": "Aw4aLyPpMFzi",
        "outputId": "aa396db2-3b98-40d1-e127-41509f36cdfd"
      },
      "outputs": [
        {
          "output_type": "stream",
          "name": "stdout",
          "text": [
            "Average Trip Duration in January was 19.1672240937939 minutes\n"
          ]
        }
      ],
      "source": [
        "jan_data['duration'] = jan_data['dropOff_datetime'] - jan_data['pickup_datetime']\n",
        "jan_data['duration'] = jan_data['duration'].apply(lambda x: x.total_seconds()/60)\n",
        "print(f\"Average Trip Duration in January was {jan_data['duration'].mean()} minutes\")"
      ]
    },
    {
      "cell_type": "markdown",
      "metadata": {
        "id": "m83GEuE_NEqg"
      },
      "source": [
        "### Data preparation\n",
        "Check the distribution of the duration variable. There are some outliers.\n",
        "\n",
        "Let's remove them and keep only the records where the duration was between 1 and 60 minutes (inclusive).\n",
        "\n",
        "How many records did you drop?"
      ]
    },
    {
      "cell_type": "code",
      "execution_count": 6,
      "metadata": {
        "id": "qhHtmzXDMCHH"
      },
      "outputs": [],
      "source": [
        "import seaborn as sns\n",
        "import matplotlib.pyplot as plt"
      ]
    },
    {
      "cell_type": "code",
      "execution_count": 7,
      "metadata": {
        "colab": {
          "base_uri": "https://localhost:8080/",
          "height": 353
        },
        "id": "oTfksdZINLsN",
        "outputId": "a6f4c05a-395c-41bc-e832-ee92f8999ffd"
      },
      "outputs": [
        {
          "output_type": "stream",
          "name": "stderr",
          "text": [
            "/usr/local/lib/python3.7/dist-packages/seaborn/distributions.py:2619: FutureWarning: `distplot` is a deprecated function and will be removed in a future version. Please adapt your code to use either `displot` (a figure-level function with similar flexibility) or `histplot` (an axes-level function for histograms).\n",
            "  warnings.warn(msg, FutureWarning)\n"
          ]
        },
        {
          "output_type": "execute_result",
          "data": {
            "text/plain": [
              "<matplotlib.axes._subplots.AxesSubplot at 0x7f22eeda9ed0>"
            ]
          },
          "metadata": {},
          "execution_count": 7
        },
        {
          "output_type": "display_data",
          "data": {
            "text/plain": [
              "<Figure size 432x288 with 1 Axes>"
            ],
            "image/png": "[encoded data removed]"
          },
          "metadata": {
            "needs_background": "light"
          }
        }
      ],
      "source": [
        "sns.distplot(jan_data.duration)"
      ]
    },
    {
      "cell_type": "code",
      "execution_count": 8,
      "metadata": {
        "id": "KA-fBqytOLGH",
        "colab": {
          "base_uri": "https://localhost:8080/"
        },
        "outputId": "81baee09-40ff-4d5b-fe99-7097e482ae74"
      },
      "outputs": [
        {
          "output_type": "stream",
          "name": "stdout",
          "text": [
            "Number of records dropped: 44286\n"
          ]
        }
      ],
      "source": [
        "processed_jan_data = jan_data[(jan_data.duration >=1) & (jan_data.duration <= 60)]\n",
        "print(f\"Number of records dropped: {jan_data.shape[0] - processed_jan_data.shape[0]}\")"
      ]
    },
    {
      "cell_type": "markdown",
      "source": [
        "### Q3. Missing values\n",
        "The features we'll use for our model are the pickup and dropoff location IDs.\n",
        "\n",
        "But they have a lot of missing values there. Let's replace them with \"-1\".\n",
        "\n",
        "What's the fractions of missing values for the pickup location ID? I.e. fraction of \"-1\"s after you filled the NAs.\n",
        "\n"
      ],
      "metadata": {
        "id": "tZLlXZG7YWnZ"
      }
    },
    {
      "cell_type": "code",
      "source": [
        "processed_jan_data.columns"
      ],
      "metadata": {
        "colab": {
          "base_uri": "https://localhost:8080/"
        },
        "id": "un0uNBXsYhl_",
        "outputId": "c7430c6d-f283-4dd1-fe55-9ec20833afc5"
      },
      "execution_count": 9,
      "outputs": [
        {
          "output_type": "execute_result",
          "data": {
            "text/plain": [
              "Index(['dispatching_base_num', 'pickup_datetime', 'dropOff_datetime',\n",
              "       'PUlocationID', 'DOlocationID', 'SR_Flag', 'Affiliated_base_number',\n",
              "       'duration'],\n",
              "      dtype='object')"
            ]
          },
          "metadata": {},
          "execution_count": 9
        }
      ]
    },
    {
      "cell_type": "code",
      "source": [
        "columns = ['PUlocationID', 'DOlocationID', 'duration']\n",
        "processed_jan_data = processed_jan_data[columns]\n",
        "processed_jan_data.dtypes"
      ],
      "metadata": {
        "colab": {
          "base_uri": "https://localhost:8080/"
        },
        "id": "4lvVn9DRYO3o",
        "outputId": "d46f55a2-ec36-47b9-98b1-296cf8facb55"
      },
      "execution_count": 10,
      "outputs": [
        {
          "output_type": "execute_result",
          "data": {
            "text/plain": [
              "PUlocationID    float64\n",
              "DOlocationID    float64\n",
              "duration        float64\n",
              "dtype: object"
            ]
          },
          "metadata": {},
          "execution_count": 10
        }
      ]
    },
    {
      "cell_type": "code",
      "source": [
        "print(f\"Number of missing values for Pickup Location Id: {processed_jan_data['PUlocationID'].isna().sum()}\") \n",
        "processed_jan_data['PUlocationID'].fillna(-1, inplace=True)\n",
        "processed_jan_data['DOlocationID'].fillna(-1, inplace=True)\n",
        "\n",
        "print(f\"Ratio: {(processed_jan_data['PUlocationID'] == -1).sum() / processed_jan_data.shape[0]}\")"
      ],
      "metadata": {
        "colab": {
          "base_uri": "https://localhost:8080/"
        },
        "id": "LguzPTh0Yxg0",
        "outputId": "b25f011f-3826-4048-99cf-12a70f607878"
      },
      "execution_count": 11,
      "outputs": [
        {
          "output_type": "stream",
          "name": "stdout",
          "text": [
            "Number of missing values for Pickup Location Id: 927008\n",
            "Ratio: 0.8352732770722617\n"
          ]
        }
      ]
    },
    {
      "cell_type": "markdown",
      "source": [
        "### Q4. One-hot encoding\n",
        "Let's apply one-hot encoding to the pickup and dropoff location IDs. \n",
        "\n",
        "We'll use only these two features for our model.\n",
        "\n",
        "Turn the dataframe into a list of dictionaries\n",
        "\n",
        "Fit a dictionary vectorizer\n",
        "\n",
        "Get a feature matrix from it\n",
        "\n",
        "What's the dimensionality of this matrix? (The number of columns)."
      ],
      "metadata": {
        "id": "EgHa4kz0bNr3"
      }
    },
    {
      "cell_type": "code",
      "source": [
        "from sklearn.feature_extraction import DictVectorizer\n",
        "\n",
        "categorical_columns = ['PUlocationID', 'DOlocationID']\n",
        "processed_jan_data[categorical_columns] = processed_jan_data[categorical_columns].astype(str)\n",
        "\n",
        "feature_dicts = processed_jan_data[categorical_columns].to_dict(orient='records')"
      ],
      "metadata": {
        "id": "pFLDq8nTa-qZ"
      },
      "execution_count": 12,
      "outputs": []
    },
    {
      "cell_type": "code",
      "source": [
        "feature_dicts[:10]"
      ],
      "metadata": {
        "colab": {
          "base_uri": "https://localhost:8080/"
        },
        "id": "vAwy2r2RclqG",
        "outputId": "0e021b6e-b6a1-483a-8b37-f2cff03b9ac6"
      },
      "execution_count": 13,
      "outputs": [
        {
          "output_type": "execute_result",
          "data": {
            "text/plain": [
              "[{'DOlocationID': '-1.0', 'PUlocationID': '-1.0'},\n",
              " {'DOlocationID': '-1.0', 'PUlocationID': '-1.0'},\n",
              " {'DOlocationID': '72.0', 'PUlocationID': '-1.0'},\n",
              " {'DOlocationID': '61.0', 'PUlocationID': '-1.0'},\n",
              " {'DOlocationID': '71.0', 'PUlocationID': '-1.0'},\n",
              " {'DOlocationID': '91.0', 'PUlocationID': '-1.0'},\n",
              " {'DOlocationID': '39.0', 'PUlocationID': '-1.0'},\n",
              " {'DOlocationID': '37.0', 'PUlocationID': '-1.0'},\n",
              " {'DOlocationID': '39.0', 'PUlocationID': '-1.0'},\n",
              " {'DOlocationID': '72.0', 'PUlocationID': '-1.0'}]"
            ]
          },
          "metadata": {},
          "execution_count": 13
        }
      ]
    },
    {
      "cell_type": "code",
      "source": [
        "dv = DictVectorizer()\n",
        "\n",
        "X_train = dv.fit_transform(feature_dicts)\n",
        "\n",
        "print(f\"Number of columns in the feature matrix is : {X_train.shape[1]}\")"
      ],
      "metadata": {
        "colab": {
          "base_uri": "https://localhost:8080/"
        },
        "id": "mOMNToO7cmoY",
        "outputId": "ed950a85-c435-471b-8867-f8979f7715a7"
      },
      "execution_count": 14,
      "outputs": [
        {
          "output_type": "stream",
          "name": "stdout",
          "text": [
            "Number of columns in the feature matrix is : 525\n"
          ]
        }
      ]
    },
    {
      "cell_type": "markdown",
      "source": [
        "### Q5. Training a model\n",
        "Now let's use the feature matrix from the previous step to train a model.\n",
        "\n",
        "Train a plain linear regression model with default parameters\n",
        "\n",
        "Calculate the RMSE of the model on the training data\n",
        "\n",
        "What's the RMSE on train?"
      ],
      "metadata": {
        "id": "j__c8REcd9Kq"
      }
    },
    {
      "cell_type": "code",
      "source": [
        "y_train = processed_jan_data['duration'].values"
      ],
      "metadata": {
        "id": "ApjkTYaid4CO"
      },
      "execution_count": 15,
      "outputs": []
    },
    {
      "cell_type": "code",
      "source": [
        "y_train"
      ],
      "metadata": {
        "colab": {
          "base_uri": "https://localhost:8080/"
        },
        "id": "nb_M_E4Mecq8",
        "outputId": "8ead853c-76bb-414f-f133-b18627c9a55c"
      },
      "execution_count": 16,
      "outputs": [
        {
          "output_type": "execute_result",
          "data": {
            "text/plain": [
              "array([17.        , 17.        ,  8.28333333, ..., 16.2       ,\n",
              "       19.43333333, 36.        ])"
            ]
          },
          "metadata": {},
          "execution_count": 16
        }
      ]
    },
    {
      "cell_type": "code",
      "source": [
        "from sklearn.linear_model import LinearRegression\n",
        "lr = LinearRegression()\n",
        "lr.fit(X_train, y_train)"
      ],
      "metadata": {
        "colab": {
          "base_uri": "https://localhost:8080/"
        },
        "id": "cjtNOi6redjt",
        "outputId": "34eb6ce5-4ea0-461b-e27d-441d15b244f4"
      },
      "execution_count": 17,
      "outputs": [
        {
          "output_type": "execute_result",
          "data": {
            "text/plain": [
              "LinearRegression()"
            ]
          },
          "metadata": {},
          "execution_count": 17
        }
      ]
    },
    {
      "cell_type": "code",
      "source": [
        "from sklearn.metrics import mean_squared_error\n",
        "y_pred = lr.predict(X_train)\n",
        "print(f\"RMSE on training data is: {mean_squared_error(y_train, y_pred, squared=False)}\")"
      ],
      "metadata": {
        "colab": {
          "base_uri": "https://localhost:8080/"
        },
        "id": "rHgRfovke_vU",
        "outputId": "010b4e5e-49fd-494f-fcc5-a7f99f269be9"
      },
      "execution_count": 18,
      "outputs": [
        {
          "output_type": "stream",
          "name": "stdout",
          "text": [
            "RMSE on training data is: 10.528519107210744\n"
          ]
        }
      ]
    },
    {
      "cell_type": "markdown",
      "source": [
        "### Q6. Evaluating the model\n",
        "Now let's apply this model to the validation dataset (Feb 2021).\n",
        "\n",
        "What's the RMSE on validation?"
      ],
      "metadata": {
        "id": "ZlDxND1jfmAz"
      }
    },
    {
      "cell_type": "code",
      "source": [
        "def preprocess_val_data(val_data, dv):\n",
        "  val_data['duration'] = val_data['dropOff_datetime'] - val_data['pickup_datetime']\n",
        "  val_data['duration'] = val_data['duration'].apply(lambda x: x.total_seconds()/60)\n",
        "\n",
        "  val_data = val_data[(val_data.duration >= 1) & (val_data.duration <= 60 )]\n",
        "\n",
        "\n",
        "  columns = ['PUlocationID', 'DOlocationID', 'duration']\n",
        "  processed_val_data = val_data[columns]\n",
        "\n",
        "  processed_val_data['PUlocationID'].fillna(-1, inplace=True)\n",
        "  processed_val_data['DOlocationID'].fillna(-1, inplace=True)\n",
        "\n",
        "  categorical_columns = ['PUlocationID', 'DOlocationID']\n",
        "  processed_val_data[categorical_columns] = processed_val_data[categorical_columns].astype(str)\n",
        "  feature_dicts = processed_val_data[categorical_columns].to_dict(orient='records')\n",
        "  \n",
        "  X_val = dv.transform(feature_dicts)\n",
        "  y_val = processed_val_data['duration'].values\n",
        "\n",
        "  return X_val, y_val\n",
        "\n"
      ],
      "metadata": {
        "id": "fF5CrjWzfh9V"
      },
      "execution_count": 19,
      "outputs": []
    },
    {
      "cell_type": "code",
      "source": [
        "X_val, y_val = preprocess_val_data(feb_data, dv)"
      ],
      "metadata": {
        "colab": {
          "base_uri": "https://localhost:8080/"
        },
        "id": "CvVEHU4gg33k",
        "outputId": "7dcd4384-bd4c-41e7-fc0a-d8f7f5805397"
      },
      "execution_count": 20,
      "outputs": [
        {
          "output_type": "stream",
          "name": "stderr",
          "text": [
            "/usr/local/lib/python3.7/dist-packages/pandas/core/generic.py:6392: SettingWithCopyWarning: \n",
            "A value is trying to be set on a copy of a slice from a DataFrame\n",
            "\n",
            "See the caveats in the documentation: https://pandas.pydata.org/pandas-docs/stable/user_guide/indexing.html#returning-a-view-versus-a-copy\n",
            "  return self._update_inplace(result)\n",
            "/usr/local/lib/python3.7/dist-packages/pandas/core/frame.py:3641: SettingWithCopyWarning: \n",
            "A value is trying to be set on a copy of a slice from a DataFrame.\n",
            "Try using .loc[row_indexer,col_indexer] = value instead\n",
            "\n",
            "See the caveats in the documentation: https://pandas.pydata.org/pandas-docs/stable/user_guide/indexing.html#returning-a-view-versus-a-copy\n",
            "  self[k1] = value[k2]\n"
          ]
        }
      ]
    },
    {
      "cell_type": "code",
      "source": [
        "y_val_pred = lr.predict(X_val)\n",
        "print(f\"RMSE on validation data is {mean_squared_error(y_val, y_val_pred, squared=False)}\")"
      ],
      "metadata": {
        "colab": {
          "base_uri": "https://localhost:8080/"
        },
        "id": "QsuwGtypg81T",
        "outputId": "d381190a-8df5-42e0-bc44-77b41caf1c5a"
      },
      "execution_count": 21,
      "outputs": [
        {
          "output_type": "stream",
          "name": "stdout",
          "text": [
            "RMSE on validation data is 11.014283196111764\n"
          ]
        }
      ]
    },
    {
      "cell_type": "code",
      "source": [
        ""
      ],
      "metadata": {
        "id": "bDF1HcbFhSnP"
      },
      "execution_count": 21,
      "outputs": []
    }
  ],
  "metadata": {
    "colab": {
      "collapsed_sections": [],
      "name": "MLOps-Zoomcamp HW (1).ipynb",
      "provenance": []
    },
    "kernelspec": {
      "display_name": "Python 3",
      "name": "python3"
    },
    "language_info": {
      "name": "python"
    }
  },
  "nbformat": 4,
  "nbformat_minor": 0
}